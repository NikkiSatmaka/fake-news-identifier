{
 "cells": [
  {
   "cell_type": "code",
   "execution_count": 8,
   "metadata": {},
   "outputs": [
    {
     "data": {
      "text/plain": [
       "{'result': {'class': '0', 'class_name': 'Fake'}, 'success': True}"
      ]
     },
     "execution_count": 8,
     "metadata": {},
     "output_type": "execute_result"
    }
   ],
   "source": [
    "import requests\n",
    "\n",
    "# URL = \"http://127.0.0.1:5000/predict\"  # for testing\n",
    "URL = \"https://news-detection-backend.herokuapp.com/predict\"  # for deployment\n",
    "\n",
    "data = {\n",
    "    \"title\": \" WATCH: Kieth Scott’s Wife Drops Mic On Cops, Gives Video Of Husband’s Final Moments To Press\",\n",
    "    \"text\": \"What you are about to see is disturbing. Keith Lamont Scott, the man killed by police in Charlotte, North Carolina had an awesome wife of 20 years who narrated and recorded the final tragic moments of his life. Mr. Scott suffered from a traumatic brain injury, and his wife repeatedly told the police this information in the minutes prior to the shooting. She also told them that he had no weapon, and that he had just taken his medication. Of course, the cops just kept shouting at the man to drop the gun that he didn t have, before taking his life for no reason.Well, the cat s out of the bag now. NBC News has the video, so, despite the fact that the cops and the City of Charlotte have been refusing to take the public s demands for transparency seriously, the information is now out there thanks to the bravery of Mrs. Scott. Here is the news report, via NBC:These cops have a whole hell of a lot of explaining to do on this one. They better release whatever information they have, and they better not try any funny business with cover-ups. This is a damning, disturbing, and heartbreaking video of yet another senseless death of a black man in America at the hands of the system that is supposed to serve and protect.At this point, there is just absolutely no reason to trust the police, period. They are clearly killing people with impunity and without consequence. The public is aware now, so somebody better be held accountable, or there will continue to be unrest, and more matches thrown on a powder keg that is surely soon to blow sky high.Featured image via screen capture from Twitter\",\n",
    "    \"subject\": \"News\",\n",
    "    \"date\": \"September 23, 2016\",\n",
    "}\n",
    "\n",
    "r = requests.post(URL, json=data)\n",
    "\n",
    "data = r.json()\n",
    "\n",
    "data"
   ]
  },
  {
   "cell_type": "code",
   "execution_count": 19,
   "metadata": {},
   "outputs": [],
   "source": [
    "import re\n",
    "\n",
    "# compile URL regex\n",
    "url_regex = re.compile(r'https?:\\S+|www\\.\\S+')\n"
   ]
  },
  {
   "cell_type": "code",
   "execution_count": 26,
   "metadata": {},
   "outputs": [
    {
     "name": "stdout",
     "output_type": "stream",
     "text": [
      "found\n"
     ]
    }
   ],
   "source": [
    "if url_regex.findall(URL+' arstnaoriesntaories'):\n",
    "    print('found')"
   ]
  },
  {
   "cell_type": "code",
   "execution_count": null,
   "metadata": {},
   "outputs": [],
   "source": []
  }
 ],
 "metadata": {
  "interpreter": {
   "hash": "57744ed932a5da4ffb7d5879d9b65170d321805180660db910f737e8fd70cf58"
  },
  "kernelspec": {
   "display_name": "Python 3.8.13",
   "language": "python",
   "name": "python3"
  },
  "language_info": {
   "codemirror_mode": {
    "name": "ipython",
    "version": 3
   },
   "file_extension": ".py",
   "mimetype": "text/x-python",
   "name": "python",
   "nbconvert_exporter": "python",
   "pygments_lexer": "ipython3",
   "version": "3.10.5"
  },
  "orig_nbformat": 4
 },
 "nbformat": 4,
 "nbformat_minor": 2
}
