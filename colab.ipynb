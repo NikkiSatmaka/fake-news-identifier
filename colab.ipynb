{
 "cells": [
  {
   "cell_type": "markdown",
   "metadata": {
    "id": "jqhEvvettBzg"
   },
   "source": [
    "## Prepare Environment"
   ]
  },
  {
   "cell_type": "code",
   "execution_count": null,
   "metadata": {
    "colab": {
     "base_uri": "https://localhost:8080/"
    },
    "id": "5WFQkTo0bvCP",
    "outputId": "a81d3520-bb4d-4039-f20a-05b05d97bf46"
   },
   "outputs": [
    {
     "name": "stdout",
     "output_type": "stream",
     "text": [
      "Mounted at /content/drive\n"
     ]
    }
   ],
   "source": [
    "# mount google drive\n",
    "from google.colab import drive\n",
    "drive.mount('/content/drive')"
   ]
  },
  {
   "cell_type": "code",
   "execution_count": null,
   "metadata": {
    "id": "9APP_mpGaiCo"
   },
   "outputs": [],
   "source": [
    "# prepare kaggle environment\n",
    "!mkdir ~/.kaggle\n",
    "!cp /content/drive/MyDrive/03-resources/kaggle/kaggle.json ~/.kaggle\n",
    "!chmod 600 ~/.kaggle/kaggle.json"
   ]
  },
  {
   "cell_type": "code",
   "execution_count": null,
   "metadata": {
    "colab": {
     "base_uri": "https://localhost:8080/"
    },
    "id": "ci3jQchR2QOS",
    "outputId": "3c90f90d-b634-4eb6-cfa4-50aac23a8c4f"
   },
   "outputs": [
    {
     "name": "stdout",
     "output_type": "stream",
     "text": [
      "Downloading fake-and-real-news-dataset.zip to data\n",
      " 98% 40.0M/41.0M [00:00<00:00, 133MB/s]\n",
      "100% 41.0M/41.0M [00:00<00:00, 124MB/s]\n"
     ]
    }
   ],
   "source": [
    "# download dataset\n",
    "!mkdir data\n",
    "!kaggle datasets download --p data --unzip clmentbisaillon/fake-and-real-news-dataset"
   ]
  },
  {
   "cell_type": "code",
   "execution_count": null,
   "metadata": {
    "colab": {
     "base_uri": "https://localhost:8080/"
    },
    "id": "N1RmPJxvdoGL",
    "outputId": "94e4b4ac-500f-477d-c699-7812b2385c96"
   },
   "outputs": [
    {
     "name": "stdout",
     "output_type": "stream",
     "text": [
      "\u001b[?25l\n",
      "\u001b[?25h\u001b[?25l\n",
      "\u001b[?25h\u001b[?25l\n",
      "\u001b[?25h\u001b[?25l\n",
      "\u001b[?25h\u001b[?25l\n",
      "\u001b[?25h\u001b[?25l\n",
      "\u001b[?25h\u001b[?25l\n",
      "\u001b[?25h\u001b[38;5;2m✔ Download and installation successful\u001b[0m\n",
      "You can now load the package via spacy.load('en_core_web_sm')\n",
      "/usr/lib/python3.7/runpy.py:125: RuntimeWarning: 'nltk.downloader' found in sys.modules after import of package 'nltk', but prior to execution of 'nltk.downloader'; this may result in unpredictable behaviour\n",
      "  warn(RuntimeWarning(msg))\n"
     ]
    }
   ],
   "source": [
    "# install dependencies\n",
    "!pip install transformers --quiet --progress-bar off\n",
    "!pip install feature-engine --quiet --progress-bar off\n",
    "!python -m spacy download en_core_web_sm --quiet --progress-bar off\n",
    "!python -m nltk.downloader stopwords punkt --quiet \n",
    "\n",
    "# copy packages directory\n",
    "!cp -r /content/drive/MyDrive/03-resources/python_pkgs/packages ./"
   ]
  }
 ],
 "metadata": {
  "kernelspec": {
   "display_name": "Python 3.10.5 (conda)",
   "language": "python",
   "name": "python3"
  },
  "language_info": {
   "name": "python",
   "version": "3.10.5"
  },
  "orig_nbformat": 4,
  "vscode": {
   "interpreter": {
    "hash": "57744ed932a5da4ffb7d5879d9b65170d321805180660db910f737e8fd70cf58"
   }
  }
 },
 "nbformat": 4,
 "nbformat_minor": 2
}
