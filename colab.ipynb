{
 "cells": [
  {
   "cell_type": "markdown",
   "metadata": {
    "id": "jqhEvvettBzg"
   },
   "source": [
    "## Prepare Dataset"
   ]
  },
  {
   "cell_type": "code",
   "execution_count": null,
   "metadata": {
    "colab": {
     "base_uri": "https://localhost:8080/"
    },
    "id": "5WFQkTo0bvCP",
    "outputId": "999d9f6d-b1ee-4a9f-ec4b-b164b5ffa7a4"
   },
   "outputs": [
    {
     "name": "stdout",
     "output_type": "stream",
     "text": [
      "Drive already mounted at /content/drive; to attempt to forcibly remount, call drive.mount(\"/content/drive\", force_remount=True).\n"
     ]
    }
   ],
   "source": [
    "# mount google drive\n",
    "from google.colab import drive\n",
    "drive.mount('/content/drive')"
   ]
  },
  {
   "cell_type": "code",
   "execution_count": null,
   "metadata": {
    "colab": {
     "base_uri": "https://localhost:8080/"
    },
    "id": "9APP_mpGaiCo",
    "outputId": "e5ae50f5-cd8f-4c36-8492-b8e1bcb598fa"
   },
   "outputs": [
    {
     "name": "stdout",
     "output_type": "stream",
     "text": [
      "mkdir: cannot create directory ‘/root/.kaggle’: File exists\n"
     ]
    }
   ],
   "source": [
    "# prepare kaggle environment\n",
    "!mkdir ~/.kaggle\n",
    "!cp /content/drive/MyDrive/03-resources/kaggle/kaggle.json ~/.kaggle\n",
    "!chmod 600 ~/.kaggle/kaggle.json"
   ]
  },
  {
   "cell_type": "code",
   "execution_count": null,
   "metadata": {
    "colab": {
     "base_uri": "https://localhost:8080/"
    },
    "id": "ci3jQchR2QOS",
    "outputId": "a62fee12-deca-49bd-99b4-82ff6fa02a75"
   },
   "outputs": [
    {
     "name": "stdout",
     "output_type": "stream",
     "text": [
      "mkdir: cannot create directory ‘data’: File exists\n",
      "Downloading fake-and-real-news-dataset.zip to data\n",
      " 95% 39.0M/41.0M [00:00<00:00, 191MB/s]\n",
      "100% 41.0M/41.0M [00:00<00:00, 194MB/s]\n"
     ]
    }
   ],
   "source": [
    "# download dataset\n",
    "!mkdir data\n",
    "!kaggle datasets download --p data --unzip clmentbisaillon/fake-and-real-news-dataset"
   ]
  },
  {
   "cell_type": "code",
   "execution_count": null,
   "metadata": {
    "colab": {
     "base_uri": "https://localhost:8080/"
    },
    "id": "N1RmPJxvdoGL",
    "outputId": "74e7e48e-66ad-4d78-cb65-354719316191"
   },
   "outputs": [
    {
     "name": "stdout",
     "output_type": "stream",
     "text": [
      "\u001b[?25l\n",
      "\u001b[?25h\u001b[38;5;2m✔ Download and installation successful\u001b[0m\n",
      "You can now load the package via spacy.load('en_core_web_sm')\n",
      "/usr/lib/python3.7/runpy.py:125: RuntimeWarning: 'nltk.downloader' found in sys.modules after import of package 'nltk', but prior to execution of 'nltk.downloader'; this may result in unpredictable behaviour\n",
      "  warn(RuntimeWarning(msg))\n"
     ]
    }
   ],
   "source": [
    "# install dependencies\n",
    "!pip install feature-engine --quiet --progress-bar off\n",
    "!python -m spacy download en_core_web_sm --quiet --progress-bar off\n",
    "!python -m nltk.downloader stopwords punkt --quiet \n",
    "\n",
    "# copy packages directory\n",
    "!cp -r /content/drive/MyDrive/03-resources/python_pkgs/packages ./"
   ]
  }
 ],
 "metadata": {
  "kernelspec": {
   "display_name": "Python 3.10.5 (conda)",
   "language": "python",
   "name": "python3"
  },
  "language_info": {
   "name": "python",
   "version": "3.10.5"
  },
  "orig_nbformat": 4,
  "vscode": {
   "interpreter": {
    "hash": "57744ed932a5da4ffb7d5879d9b65170d321805180660db910f737e8fd70cf58"
   }
  }
 },
 "nbformat": 4,
 "nbformat_minor": 2
}
