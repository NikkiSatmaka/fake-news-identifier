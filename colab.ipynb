{
 "cells": [
  {
   "cell_type": "markdown",
   "metadata": {
    "id": "66A3OqsUuHwZ"
   },
   "source": [
    "## Prepare Dataset"
   ]
  },
  {
   "cell_type": "code",
   "execution_count": null,
   "metadata": {
    "colab": {
     "base_uri": "https://localhost:8080/"
    },
    "executionInfo": {
     "elapsed": 22294,
     "status": "ok",
     "timestamp": 1655881733924,
     "user": {
      "displayName": "Nikki Satmaka",
      "userId": "12249440399984157583"
     },
     "user_tz": -420
    },
    "id": "5WFQkTo0bvCP",
    "outputId": "b4bc9561-1066-4256-a9c8-d3adcf921122"
   },
   "outputs": [
    {
     "name": "stdout",
     "output_type": "stream",
     "text": [
      "Mounted at /content/drive\n"
     ]
    }
   ],
   "source": [
    "# mount google drive\n",
    "from google.colab import drive\n",
    "drive.mount('/content/drive')"
   ]
  },
  {
   "cell_type": "code",
   "execution_count": null,
   "metadata": {
    "id": "9APP_mpGaiCo"
   },
   "outputs": [],
   "source": [
    "# prepare kaggle environment\n",
    "!mkdir ~/.kaggle\n",
    "!cp /content/drive/MyDrive/03-resources/kaggle/kaggle.json ~/.kaggle\n",
    "!chmod 600 ~/.kaggle/kaggle.json"
   ]
  },
  {
   "cell_type": "code",
   "execution_count": null,
   "metadata": {
    "colab": {
     "base_uri": "https://localhost:8080/"
    },
    "executionInfo": {
     "elapsed": 2830,
     "status": "ok",
     "timestamp": 1655881744588,
     "user": {
      "displayName": "Nikki Satmaka",
      "userId": "12249440399984157583"
     },
     "user_tz": -420
    },
    "id": "ci3jQchR2QOS",
    "outputId": "f688df8b-7e57-4948-ecf3-0022544fb654"
   },
   "outputs": [
    {
     "name": "stdout",
     "output_type": "stream",
     "text": [
      "Downloading fake-and-real-news-dataset.zip to data\n",
      " 81% 33.0M/41.0M [00:00<00:00, 182MB/s]\n",
      "100% 41.0M/41.0M [00:00<00:00, 184MB/s]\n"
     ]
    }
   ],
   "source": [
    "# download dataset\n",
    "!mkdir data\n",
    "!kaggle datasets download --p data --unzip clmentbisaillon/fake-and-real-news-dataset"
   ]
  },
  {
   "cell_type": "code",
   "execution_count": null,
   "metadata": {
    "colab": {
     "base_uri": "https://localhost:8080/"
    },
    "executionInfo": {
     "elapsed": 12886,
     "status": "ok",
     "timestamp": 1655881795998,
     "user": {
      "displayName": "Nikki Satmaka",
      "userId": "12249440399984157583"
     },
     "user_tz": -420
    },
    "id": "N1RmPJxvdoGL",
    "outputId": "65efc49f-7fa1-4f09-d9c6-27fad3c33aba"
   },
   "outputs": [
    {
     "name": "stdout",
     "output_type": "stream",
     "text": [
      "\u001b[?25l\n",
      "\u001b[?25h\u001b[?25l\n",
      "\u001b[?25h"
     ]
    }
   ],
   "source": [
    "# install dependencies\n",
    "!pip install --quiet --progress-bar off feature-engine\n",
    "\n",
    "# copy packages directory\n",
    "!cp -r /content/drive/MyDrive/03-resources/python_pkgs/packages ./"
   ]
  }
 ],
 "metadata": {
  "kernelspec": {
   "display_name": "Python 3.10.5 (conda)",
   "language": "python",
   "name": "python3"
  },
  "language_info": {
   "name": "python",
   "version": "3.10.5"
  },
  "orig_nbformat": 4,
  "vscode": {
   "interpreter": {
    "hash": "57744ed932a5da4ffb7d5879d9b65170d321805180660db910f737e8fd70cf58"
   }
  }
 },
 "nbformat": 4,
 "nbformat_minor": 2
}
